{
 "cells": [
  {
   "cell_type": "code",
   "execution_count": 3,
   "id": "ba1a72e3",
   "metadata": {},
   "outputs": [],
   "source": [
    "import pandas as pd\n",
    "from sklearn.datasets import load_digits\n",
    "import matplotlib.pyplot as plt\n",
    "import seaborn as sns"
   ]
  },
  {
   "cell_type": "code",
   "execution_count": 4,
   "id": "ba8ea9f7",
   "metadata": {},
   "outputs": [],
   "source": [
    "digit=load_digits()"
   ]
  },
  {
   "cell_type": "code",
   "execution_count": 16,
   "id": "776a406f",
   "metadata": {},
   "outputs": [
    {
     "data": {
      "text/plain": [
       "array([[ 0.,  0.,  5., ...,  0.,  0.,  0.],\n",
       "       [ 0.,  0.,  0., ..., 10.,  0.,  0.],\n",
       "       [ 0.,  0.,  0., ..., 16.,  9.,  0.],\n",
       "       ...,\n",
       "       [ 0.,  0.,  1., ...,  6.,  0.,  0.],\n",
       "       [ 0.,  0.,  2., ..., 12.,  0.,  0.],\n",
       "       [ 0.,  0., 10., ..., 12.,  1.,  0.]])"
      ]
     },
     "execution_count": 16,
     "metadata": {},
     "output_type": "execute_result"
    }
   ],
   "source": [
    "digit.data"
   ]
  },
  {
   "cell_type": "code",
   "execution_count": 13,
   "id": "5439121f",
   "metadata": {},
   "outputs": [
    {
     "data": {
      "text/plain": [
       "array([0, 1, 2, ..., 8, 9, 8])"
      ]
     },
     "execution_count": 13,
     "metadata": {},
     "output_type": "execute_result"
    }
   ],
   "source": [
    "digit.target"
   ]
  },
  {
   "cell_type": "code",
   "execution_count": 17,
   "id": "5f5ed1fb",
   "metadata": {},
   "outputs": [],
   "source": [
    "from sklearn.model_selection import train_test_split"
   ]
  },
  {
   "cell_type": "code",
   "execution_count": 19,
   "id": "32759f2b",
   "metadata": {},
   "outputs": [],
   "source": [
    "x_train,x_test,y_train,y_test=train_test_split(digit.data,digit.target,test_size=0.2)"
   ]
  },
  {
   "cell_type": "code",
   "execution_count": 20,
   "id": "f837ac87",
   "metadata": {},
   "outputs": [],
   "source": [
    "from sklearn.svm import SVC"
   ]
  },
  {
   "cell_type": "code",
   "execution_count": 21,
   "id": "0421da45",
   "metadata": {},
   "outputs": [],
   "source": [
    "model=SVC()"
   ]
  },
  {
   "cell_type": "code",
   "execution_count": 22,
   "id": "6403b1da",
   "metadata": {},
   "outputs": [
    {
     "data": {
      "text/plain": [
       "SVC()"
      ]
     },
     "execution_count": 22,
     "metadata": {},
     "output_type": "execute_result"
    }
   ],
   "source": [
    "model.fit(x_train,y_train)"
   ]
  },
  {
   "cell_type": "code",
   "execution_count": 23,
   "id": "f280ad02",
   "metadata": {},
   "outputs": [
    {
     "data": {
      "text/plain": [
       "array([0, 5, 6, 5, 5, 0, 6, 1, 5, 6, 0, 7, 6, 8, 1, 2, 4, 1, 1, 2, 1, 4,\n",
       "       4, 8, 9, 3, 4, 7, 9, 5, 4, 4, 5, 8, 7, 4, 1, 7, 6, 7, 8, 1, 6, 9,\n",
       "       0, 4, 5, 3, 5, 6, 9, 2, 7, 5, 9, 5, 7, 1, 7, 4, 0, 0, 4, 7, 6, 4,\n",
       "       4, 2, 6, 3, 3, 3, 2, 6, 9, 6, 7, 3, 7, 2, 0, 2, 1, 4, 8, 1, 3, 0,\n",
       "       0, 7, 4, 1, 3, 0, 3, 3, 1, 7, 3, 2, 1, 0, 9, 7, 8, 7, 2, 9, 5, 8,\n",
       "       4, 9, 2, 6, 6, 3, 7, 0, 3, 7, 8, 2, 3, 9, 5, 8, 9, 9, 1, 5, 3, 6,\n",
       "       6, 0, 7, 9, 2, 9, 3, 1, 4, 4, 3, 6, 2, 3, 0, 0, 4, 5, 3, 4, 4, 0,\n",
       "       8, 3, 6, 1, 9, 6, 4, 2, 4, 6, 7, 9, 7, 3, 7, 4, 2, 3, 0, 9, 3, 4,\n",
       "       9, 4, 4, 6, 4, 1, 9, 2, 5, 6, 9, 9, 0, 9, 7, 4, 7, 1, 9, 9, 0, 6,\n",
       "       2, 3, 9, 4, 7, 5, 7, 0, 1, 8, 3, 9, 8, 2, 7, 3, 5, 7, 0, 8, 9, 6,\n",
       "       1, 4, 1, 8, 4, 2, 2, 3, 0, 8, 9, 5, 6, 7, 9, 2, 1, 4, 8, 2, 2, 5,\n",
       "       5, 3, 2, 7, 3, 6, 0, 7, 1, 0, 3, 7, 1, 0, 5, 0, 3, 1, 2, 8, 7, 1,\n",
       "       1, 9, 8, 5, 0, 7, 5, 1, 2, 5, 5, 3, 3, 1, 3, 1, 7, 7, 7, 2, 9, 6,\n",
       "       1, 2, 3, 9, 3, 0, 7, 5, 3, 2, 9, 3, 4, 7, 5, 5, 8, 0, 3, 1, 8, 2,\n",
       "       6, 0, 4, 3, 8, 5, 6, 6, 9, 4, 8, 5, 8, 7, 3, 4, 5, 5, 0, 3, 1, 3,\n",
       "       0, 1, 5, 6, 0, 9, 6, 8, 7, 5, 0, 6, 7, 0, 1, 0, 5, 8, 2, 2, 8, 6,\n",
       "       9, 2, 9, 1, 1, 7, 4, 7])"
      ]
     },
     "execution_count": 23,
     "metadata": {},
     "output_type": "execute_result"
    }
   ],
   "source": [
    "model.predict(x_test)"
   ]
  },
  {
   "cell_type": "code",
   "execution_count": 24,
   "id": "40babb79",
   "metadata": {},
   "outputs": [
    {
     "data": {
      "text/plain": [
       "array([0, 5, 6, 5, 5, 0, 6, 1, 5, 6, 0, 7, 6, 8, 1, 2, 4, 1, 1, 2, 1, 4,\n",
       "       4, 8, 9, 3, 4, 7, 9, 5, 4, 4, 5, 3, 7, 4, 1, 7, 6, 7, 8, 1, 6, 9,\n",
       "       0, 4, 5, 3, 5, 6, 9, 2, 7, 5, 9, 5, 7, 1, 7, 4, 0, 0, 4, 7, 6, 4,\n",
       "       4, 2, 6, 3, 3, 3, 2, 6, 9, 6, 7, 3, 7, 2, 0, 2, 1, 4, 8, 1, 3, 0,\n",
       "       0, 7, 4, 1, 3, 0, 3, 3, 1, 7, 3, 2, 1, 0, 9, 7, 8, 7, 2, 9, 5, 8,\n",
       "       4, 9, 2, 6, 6, 3, 7, 0, 3, 7, 9, 2, 3, 9, 5, 8, 9, 9, 1, 5, 3, 6,\n",
       "       6, 0, 7, 9, 2, 9, 3, 1, 4, 4, 3, 6, 2, 3, 0, 0, 4, 5, 3, 4, 4, 0,\n",
       "       8, 3, 6, 1, 9, 6, 4, 2, 4, 6, 7, 9, 7, 3, 7, 4, 2, 3, 0, 9, 3, 4,\n",
       "       9, 4, 4, 6, 4, 1, 9, 2, 5, 6, 9, 9, 0, 9, 7, 4, 7, 1, 9, 9, 0, 6,\n",
       "       2, 3, 9, 4, 7, 5, 7, 0, 1, 8, 3, 9, 8, 2, 7, 3, 5, 7, 0, 8, 9, 6,\n",
       "       1, 4, 1, 8, 4, 2, 2, 3, 0, 8, 9, 5, 6, 7, 9, 2, 1, 4, 8, 2, 2, 5,\n",
       "       5, 3, 2, 7, 3, 6, 0, 7, 1, 0, 3, 7, 1, 0, 5, 0, 3, 1, 2, 8, 7, 1,\n",
       "       1, 9, 8, 5, 0, 7, 5, 1, 2, 5, 5, 3, 3, 1, 3, 1, 7, 7, 7, 2, 9, 6,\n",
       "       1, 2, 3, 9, 3, 0, 7, 5, 3, 2, 9, 3, 4, 7, 5, 5, 8, 0, 3, 1, 8, 2,\n",
       "       6, 0, 4, 3, 8, 5, 6, 6, 9, 4, 8, 5, 8, 7, 3, 4, 5, 5, 0, 3, 1, 3,\n",
       "       0, 1, 5, 6, 0, 9, 6, 8, 7, 5, 0, 6, 7, 0, 1, 0, 5, 8, 2, 2, 8, 6,\n",
       "       9, 2, 9, 1, 1, 7, 4, 7])"
      ]
     },
     "execution_count": 24,
     "metadata": {},
     "output_type": "execute_result"
    }
   ],
   "source": [
    "y_test"
   ]
  },
  {
   "cell_type": "code",
   "execution_count": 25,
   "id": "a190484c",
   "metadata": {},
   "outputs": [],
   "source": [
    "from sklearn.metrics import confusion_matrix"
   ]
  },
  {
   "cell_type": "code",
   "execution_count": 27,
   "id": "6706679a",
   "metadata": {},
   "outputs": [],
   "source": [
    "cm=confusion_matrix(y_test,model.predict(x_test))"
   ]
  },
  {
   "cell_type": "code",
   "execution_count": 28,
   "id": "ccf5ef0d",
   "metadata": {},
   "outputs": [
    {
     "data": {
      "text/plain": [
       "array([[36,  0,  0,  0,  0,  0,  0,  0,  0,  0],\n",
       "       [ 0, 37,  0,  0,  0,  0,  0,  0,  0,  0],\n",
       "       [ 0,  0, 33,  0,  0,  0,  0,  0,  0,  0],\n",
       "       [ 0,  0,  0, 43,  0,  0,  0,  0,  1,  0],\n",
       "       [ 0,  0,  0,  0, 37,  0,  0,  0,  0,  0],\n",
       "       [ 0,  0,  0,  0,  0, 35,  0,  0,  0,  0],\n",
       "       [ 0,  0,  0,  0,  0,  0, 33,  0,  0,  0],\n",
       "       [ 0,  0,  0,  0,  0,  0,  0, 43,  0,  0],\n",
       "       [ 0,  0,  0,  0,  0,  0,  0,  0, 24,  0],\n",
       "       [ 0,  0,  0,  0,  0,  0,  0,  0,  1, 37]], dtype=int64)"
      ]
     },
     "execution_count": 28,
     "metadata": {},
     "output_type": "execute_result"
    }
   ],
   "source": [
    "cm"
   ]
  },
  {
   "cell_type": "code",
   "execution_count": 40,
   "id": "1971b472",
   "metadata": {},
   "outputs": [
    {
     "data": {
      "image/png": "[encoded data removed]",
      "text/plain": [
       "<Figure size 1080x648 with 2 Axes>"
      ]
     },
     "metadata": {
      "needs_background": "light"
     },
     "output_type": "display_data"
    }
   ],
   "source": [
    "plt.figure(figsize=(15,9))\n",
    "sns.heatmap(cm,annot=True)\n",
    "plt.xlabel(\"Actual values\")\n",
    "plt.ylabel(\"Predicted Values\")\n",
    "plt.show()"
   ]
  },
  {
   "cell_type": "code",
   "execution_count": 34,
   "id": "dc74fc87",
   "metadata": {},
   "outputs": [
    {
     "data": {
      "text/plain": [
       "0.9944444444444445"
      ]
     },
     "execution_count": 34,
     "metadata": {},
     "output_type": "execute_result"
    }
   ],
   "source": [
    "model.score(x_test,y_test)"
   ]
  },
  {
   "cell_type": "code",
   "execution_count": 35,
   "id": "58a45301",
   "metadata": {},
   "outputs": [],
   "source": [
    "from sklearn.linear_model import LogisticRegression"
   ]
  },
  {
   "cell_type": "code",
   "execution_count": 36,
   "id": "7c42e71a",
   "metadata": {},
   "outputs": [],
   "source": [
    "model2=LogisticRegression()"
   ]
  },
  {
   "cell_type": "code",
   "execution_count": 37,
   "id": "ac3a2839",
   "metadata": {},
   "outputs": [
    {
     "name": "stderr",
     "output_type": "stream",
     "text": [
      "c:\\users\\shivam\\appdata\\local\\programs\\python\\python37\\lib\\site-packages\\sklearn\\linear_model\\_logistic.py:818: ConvergenceWarning: lbfgs failed to converge (status=1):\n",
      "STOP: TOTAL NO. of ITERATIONS REACHED LIMIT.\n",
      "\n",
      "Increase the number of iterations (max_iter) or scale the data as shown in:\n",
      "    https://scikit-learn.org/stable/modules/preprocessing.html\n",
      "Please also refer to the documentation for alternative solver options:\n",
      "    https://scikit-learn.org/stable/modules/linear_model.html#logistic-regression\n",
      "  extra_warning_msg=_LOGISTIC_SOLVER_CONVERGENCE_MSG,\n"
     ]
    },
    {
     "data": {
      "text/plain": [
       "LogisticRegression()"
      ]
     },
     "execution_count": 37,
     "metadata": {},
     "output_type": "execute_result"
    }
   ],
   "source": [
    "model2.fit(x_train,y_train)"
   ]
  },
  {
   "cell_type": "code",
   "execution_count": 39,
   "id": "a2470ebc",
   "metadata": {},
   "outputs": [
    {
     "data": {
      "text/plain": [
       "0.9694444444444444"
      ]
     },
     "execution_count": 39,
     "metadata": {},
     "output_type": "execute_result"
    }
   ],
   "source": [
    "model2.score(x_test,y_test)"
   ]
  },
  {
   "cell_type": "code",
   "execution_count": null,
   "id": "8545a9be",
   "metadata": {},
   "outputs": [],
   "source": []
  }
 ],
 "metadata": {
  "kernelspec": {
   "display_name": "Python 3 (ipykernel)",
   "language": "python",
   "name": "python3"
  },
  "language_info": {
   "codemirror_mode": {
    "name": "ipython",
    "version": 3
   },
   "file_extension": ".py",
   "mimetype": "text/x-python",
   "name": "python",
   "nbconvert_exporter": "python",
   "pygments_lexer": "ipython3",
   "version": "3.7.5"
  }
 },
 "nbformat": 4,
 "nbformat_minor": 5
}
