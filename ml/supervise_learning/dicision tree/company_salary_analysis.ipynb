{
 "cells": [
  {
   "cell_type": "code",
   "execution_count": 77,
   "id": "ed1d98f9",
   "metadata": {},
   "outputs": [],
   "source": [
    "import pandas as pd "
   ]
  },
  {
   "cell_type": "code",
   "execution_count": 78,
   "id": "c7183cab",
   "metadata": {},
   "outputs": [
    {
     "data": {
      "text/html": [
       "<div>\n",
       "<style scoped>\n",
       "    .dataframe tbody tr th:only-of-type {\n",
       "        vertical-align: middle;\n",
       "    }\n",
       "\n",
       "    .dataframe tbody tr th {\n",
       "        vertical-align: top;\n",
       "    }\n",
       "\n",
       "    .dataframe thead th {\n",
       "        text-align: right;\n",
       "    }\n",
       "</style>\n",
       "<table border=\"1\" class=\"dataframe\">\n",
       "  <thead>\n",
       "    <tr style=\"text-align: right;\">\n",
       "      <th></th>\n",
       "      <th>company</th>\n",
       "      <th>job</th>\n",
       "      <th>degree</th>\n",
       "      <th>salary_more_then_100k</th>\n",
       "    </tr>\n",
       "  </thead>\n",
       "  <tbody>\n",
       "    <tr>\n",
       "      <th>0</th>\n",
       "      <td>google</td>\n",
       "      <td>sales executive</td>\n",
       "      <td>bachelors</td>\n",
       "      <td>0</td>\n",
       "    </tr>\n",
       "    <tr>\n",
       "      <th>1</th>\n",
       "      <td>google</td>\n",
       "      <td>sales executive</td>\n",
       "      <td>masters</td>\n",
       "      <td>0</td>\n",
       "    </tr>\n",
       "  </tbody>\n",
       "</table>\n",
       "</div>"
      ],
      "text/plain": [
       "  company              job     degree  salary_more_then_100k\n",
       "0  google  sales executive  bachelors                      0\n",
       "1  google  sales executive    masters                      0"
      ]
     },
     "execution_count": 78,
     "metadata": {},
     "output_type": "execute_result"
    }
   ],
   "source": [
    "df=pd.read_csv('salaries.csv')\n",
    "df.head(2)"
   ]
  },
  {
   "cell_type": "code",
   "execution_count": 79,
   "id": "9f607133",
   "metadata": {},
   "outputs": [],
   "source": [
    "input=df.drop('salary_more_then_100k',axis=1)"
   ]
  },
  {
   "cell_type": "code",
   "execution_count": 80,
   "id": "01da99d8",
   "metadata": {},
   "outputs": [
    {
     "data": {
      "text/plain": [
       "14    1\n",
       "15    1\n",
       "Name: salary_more_then_100k, dtype: int64"
      ]
     },
     "execution_count": 80,
     "metadata": {},
     "output_type": "execute_result"
    }
   ],
   "source": [
    "target=df.salary_more_then_100k\n",
    "target.tail(2)"
   ]
  },
  {
   "cell_type": "code",
   "execution_count": 81,
   "id": "5e6821d5",
   "metadata": {},
   "outputs": [],
   "source": [
    "from sklearn.preprocessing import LabelEncoder"
   ]
  },
  {
   "cell_type": "code",
   "execution_count": 82,
   "id": "b7cd737a",
   "metadata": {},
   "outputs": [],
   "source": [
    "le_company=LabelEncoder()\n",
    "le_job=LabelEncoder()\n",
    "le_degree=LabelEncoder()"
   ]
  },
  {
   "cell_type": "code",
   "execution_count": 83,
   "id": "72a3451b",
   "metadata": {},
   "outputs": [],
   "source": [
    "dfl=df"
   ]
  },
  {
   "cell_type": "code",
   "execution_count": 87,
   "id": "6da0f6b9",
   "metadata": {},
   "outputs": [
    {
     "data": {
      "text/plain": [
       "(    company  job  degree\n",
       " 0         2    2       0\n",
       " 1         2    2       1\n",
       " 2         2    0       0\n",
       " 3         2    0       1\n",
       " 4         2    1       0\n",
       " 5         2    1       1\n",
       " 6         0    2       1\n",
       " 7         0    1       0\n",
       " 8         0    0       0\n",
       " 9         0    0       1\n",
       " 10        1    2       0\n",
       " 11        1    2       1\n",
       " 12        1    0       0\n",
       " 13        1    0       1\n",
       " 14        1    1       0\n",
       " 15        1    1       1,\n",
       "     company  job  degree  salary_more_then_100k\n",
       " 0         2    2       0                      0\n",
       " 1         2    2       1                      0\n",
       " 2         2    0       0                      1\n",
       " 3         2    0       1                      1\n",
       " 4         2    1       0                      0\n",
       " 5         2    1       1                      1\n",
       " 6         0    2       1                      0\n",
       " 7         0    1       0                      0\n",
       " 8         0    0       0                      0\n",
       " 9         0    0       1                      1\n",
       " 10        1    2       0                      1\n",
       " 11        1    2       1                      1\n",
       " 12        1    0       0                      1\n",
       " 13        1    0       1                      1\n",
       " 14        1    1       0                      1\n",
       " 15        1    1       1                      1)"
      ]
     },
     "execution_count": 87,
     "metadata": {},
     "output_type": "execute_result"
    }
   ],
   "source": [
    "dfl['job']= le_job.fit_transform(dfl['job'])\n",
    "dfl['degree']= le_degree.fit_transform(dfl['degree'])\n",
    "dfl['company']= le_company.fit_transform(dfl['company'])\n"
   ]
  },
  {
   "cell_type": "code",
   "execution_count": 85,
   "id": "4184f34e",
   "metadata": {},
   "outputs": [],
   "source": [
    "dfl=dfl.drop('salary_more_then_100k',axis=1)\n"
   ]
  },
  {
   "cell_type": "code",
   "execution_count": 86,
   "id": "31f43d97",
   "metadata": {},
   "outputs": [
    {
     "data": {
      "text/plain": [
       "0     0\n",
       "1     0\n",
       "2     1\n",
       "3     1\n",
       "4     0\n",
       "5     1\n",
       "6     0\n",
       "7     0\n",
       "8     0\n",
       "9     1\n",
       "10    1\n",
       "11    1\n",
       "12    1\n",
       "13    1\n",
       "14    1\n",
       "15    1\n",
       "Name: salary_more_then_100k, dtype: int64"
      ]
     },
     "execution_count": 86,
     "metadata": {},
     "output_type": "execute_result"
    }
   ],
   "source": [
    "target"
   ]
  },
  {
   "cell_type": "code",
   "execution_count": 68,
   "id": "d0640ded",
   "metadata": {},
   "outputs": [],
   "source": [
    "from sklearn import tree"
   ]
  },
  {
   "cell_type": "code",
   "execution_count": 69,
   "id": "f946c6aa",
   "metadata": {},
   "outputs": [],
   "source": [
    "model=tree.DecisionTreeClassifier()"
   ]
  },
  {
   "cell_type": "code",
   "execution_count": 70,
   "id": "7924f68c",
   "metadata": {},
   "outputs": [
    {
     "data": {
      "text/plain": [
       "DecisionTreeClassifier()"
      ]
     },
     "execution_count": 70,
     "metadata": {},
     "output_type": "execute_result"
    }
   ],
   "source": [
    "model.fit(dfl,target)"
   ]
  },
  {
   "cell_type": "code",
   "execution_count": 75,
   "id": "b1f42c45",
   "metadata": {},
   "outputs": [
    {
     "name": "stderr",
     "output_type": "stream",
     "text": [
      "c:\\users\\shivam\\appdata\\local\\programs\\python\\python37\\lib\\site-packages\\sklearn\\base.py:451: UserWarning: X does not have valid feature names, but DecisionTreeClassifier was fitted with feature names\n",
      "  \"X does not have valid feature names, but\"\n"
     ]
    },
    {
     "data": {
      "text/plain": [
       "array([1], dtype=int64)"
      ]
     },
     "execution_count": 75,
     "metadata": {},
     "output_type": "execute_result"
    }
   ],
   "source": [
    "model.predict([[1,2,0]])"
   ]
  },
  {
   "cell_type": "code",
   "execution_count": 72,
   "id": "aa14dc3d",
   "metadata": {},
   "outputs": [
    {
     "data": {
      "text/plain": [
       "1.0"
      ]
     },
     "execution_count": 72,
     "metadata": {},
     "output_type": "execute_result"
    }
   ],
   "source": [
    "model.score(dfl,target)"
   ]
  },
  {
   "cell_type": "code",
   "execution_count": null,
   "id": "567d7e2c",
   "metadata": {},
   "outputs": [],
   "source": [
    "mode"
   ]
  }
 ],
 "metadata": {
  "kernelspec": {
   "display_name": "Python 3 (ipykernel)",
   "language": "python",
   "name": "python3"
  },
  "language_info": {
   "codemirror_mode": {
    "name": "ipython",
    "version": 3
   },
   "file_extension": ".py",
   "mimetype": "text/x-python",
   "name": "python",
   "nbconvert_exporter": "python",
   "pygments_lexer": "ipython3",
   "version": "3.7.5"
  }
 },
 "nbformat": 4,
 "nbformat_minor": 5
}
